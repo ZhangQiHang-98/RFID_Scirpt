{
 "cells": [
  {
   "cell_type": "code",
   "execution_count": 1,
   "metadata": {
    "ExecuteTime": {
     "end_time": "2021-12-08T08:35:35.780224Z",
     "start_time": "2021-12-08T08:35:35.064995Z"
    }
   },
   "outputs": [],
   "source": [
    "import random\n",
    "import os\n",
    "import sys\n",
    "import torch.backends.cudnn as cudnn\n",
    "import torch.optim as optim\n",
    "import torch.utils.data\n",
    "import numpy as np\n",
    "from seriesDataset import seriesDataset\n",
    "from torchvision import datasets\n",
    "from torchvision import transforms"
   ]
  },
  {
   "cell_type": "code",
   "execution_count": 2,
   "metadata": {
    "ExecuteTime": {
     "end_time": "2021-12-08T08:35:36.657080Z",
     "start_time": "2021-12-08T08:35:36.403818Z"
    }
   },
   "outputs": [],
   "source": [
    "# source_root = '/home/iot/jupyter/root_dir/zkx2/letterSim'\n",
    "source_root = '/home/iot/jupyter/root_dir/zkx2/shapeletX'\n",
    "\n",
    "labelMap = {\"a\":0, \"b\":1, \"c\":2, \"d\":3, \"e\":4}\n",
    "\n",
    "source_dataset = seriesDataset( source_root, labelMap , False)\n",
    "\n",
    "\n",
    "dataloader_source = torch.utils.data.DataLoader(\n",
    "    dataset=source_dataset,\n",
    "    batch_size=10,\n",
    "    shuffle=True,\n",
    "    num_workers=8\n",
    ")\n",
    "\n",
    "\n",
    "test_root = '/home/iot/jupyter/root_dir/zkx2/UserData/user1/letter'\n",
    "test_dataset = seriesDataset(test_root , labelMap , False)\n",
    "dataloader_test = torch.utils.data.DataLoader(\n",
    "    dataset= test_dataset,\n",
    "    batch_size=20,\n",
    "    shuffle=True,\n",
    "    num_workers=8\n",
    ")"
   ]
  },
  {
   "cell_type": "code",
   "execution_count": 3,
   "metadata": {
    "ExecuteTime": {
     "end_time": "2021-12-08T08:02:13.816067Z",
     "start_time": "2021-12-08T08:02:13.778264Z"
    }
   },
   "outputs": [],
   "source": [
    "import torch.nn as nn\n",
    "\n",
    "class KaiNet(nn.Module):\n",
    "    def __init__(self):\n",
    "        super(KaiNet, self).__init__()\n",
    "        self.feature = nn.Sequential()\n",
    "        self.feature.add_module('f_conv1', nn.Conv1d(1,64,kernel_size=3))\n",
    "        self.feature.add_module('f_bn', nn.BatchNorm1d(64))\n",
    "        self.feature.add_module('f_relu', nn.ReLU(True))\n",
    "        self.feature.add_module('f_conv2', nn.Conv1d(64,128,kernel_size=3))\n",
    "        self.feature.add_module('f_bn2', nn.BatchNorm1d(128))\n",
    "        self.feature.add_module('f_relu2', nn.ReLU(True))\n",
    "        self.feature.add_module('f_conv3', nn.Conv1d(128,128,kernel_size=3))\n",
    "        self.feature.add_module('f_bn3', nn.BatchNorm1d(128))\n",
    "        self.feature.add_module('f_relu3', nn.ReLU(True))\n",
    "\n",
    "        self.class_classifier = nn.Sequential()\n",
    "        self.class_classifier.add_module('c_fc1', nn.Linear(250*128, 32))\n",
    "        self.class_classifier.add_module(\"c_bn1\", nn.BatchNorm1d(32))\n",
    "        self.class_classifier.add_module('c_relu', nn.ReLU(True))\n",
    "        self.class_classifier.add_module('c_fc2', nn.Linear(32,5))\n",
    "\n",
    "\n",
    "    def forward(self, input_data ):\n",
    "        input_data = input_data.view(-1 , 1, 256)\n",
    "        x = self.feature(input_data.float())\n",
    "        x = x.view(-1 , 250*128)\n",
    "        class_output = self.class_classifier(x)\n",
    "\n",
    "        return class_output\n",
    "\n"
   ]
  },
  {
   "cell_type": "code",
   "execution_count": 4,
   "metadata": {},
   "outputs": [],
   "source": [
    "class MyTransformer(nn.Module):\n",
    "    def __init__(self):\n",
    "        super(MyTransformer , self).__init__()\n",
    "        self.encoder_layer = nn.TransformerEncoderLayer(256, nhead=8, dropout=0.1)\n",
    "        self.transformer_encoder = nn.TransformerEncoder(self.encoder_layer , num_layers=1)\n",
    "        self.classifier = nn.Sequential()\n",
    "        self.classifier.add_module( 'c_fc1' ,nn.Linear( 256  , 128))\n",
    "        self.classifier.add_module('c_relu' , nn.ReLU(True))\n",
    "        self.classifier.add_module( 'c_fc2'  , nn.Linear(128 , 5))\n",
    "    \n",
    "    def forward(self, input_data):\n",
    "        input_data = input_data.view(-1 , 1, 256)\n",
    "        x = input_data.float()\n",
    "        x = self.transformer_encoder(x)\n",
    "        x = x.view(-1 , 256 )\n",
    "        y = self.classifier(x)\n",
    "        return y"
   ]
  },
  {
   "cell_type": "code",
   "execution_count": 5,
   "metadata": {
    "ExecuteTime": {
     "end_time": "2021-12-08T08:02:14.573189Z",
     "start_time": "2021-12-08T08:02:14.559135Z"
    }
   },
   "outputs": [],
   "source": [
    "# my_net = KaiNet()\n",
    "my_net = MyTransformer()\n",
    "cuda = True\n",
    "lr = 1e-4\n",
    "\n",
    "optimizer = optim.Adam(my_net.parameters(), lr=lr)\n",
    "loss_class = torch.nn.CrossEntropyLoss()\n",
    "\n",
    "if cuda:\n",
    "    my_net = my_net.cuda()\n",
    "    loss_class = loss_class.cuda()"
   ]
  },
  {
   "cell_type": "code",
   "execution_count": 6,
   "metadata": {
    "ExecuteTime": {
     "end_time": "2021-12-08T08:03:05.629761Z",
     "start_time": "2021-12-08T08:02:16.745427Z"
    }
   },
   "outputs": [
    {
     "name": "stdout",
     "output_type": "stream",
     "text": [
      " epoch:0  step:1689  err_s_label:0.138408accuracy:0.713333\n",
      " epoch:1  step:1689  err_s_label:0.545737accuracy:0.673333\n",
      " epoch:2  step:1689  err_s_label:0.279323accuracy:0.653333\n",
      " epoch:3  step:1689  err_s_label:0.005854accuracy:0.653333\n",
      " epoch:4  step:1689  err_s_label:0.098282accuracy:0.626667\n",
      " epoch:5  step:1689  err_s_label:0.551152accuracy:0.646667\n",
      " epoch:6  step:1689  err_s_label:0.091403accuracy:0.673333\n",
      " epoch:7  step:1689  err_s_label:0.112836accuracy:0.633333\n",
      " epoch:8  step:1689  err_s_label:0.011688accuracy:0.706667\n",
      " epoch:9  step:1689  err_s_label:0.008248accuracy:0.713333\n",
      " epoch:10  step:1689  err_s_label:0.122582accuracy:0.660000\n",
      " epoch:11  step:1689  err_s_label:0.024375accuracy:0.633333\n",
      " epoch:12  step:383  err_s_label:0.120950"
     ]
    },
    {
     "ename": "KeyboardInterrupt",
     "evalue": "",
     "output_type": "error",
     "traceback": [
      "\u001b[0;31m---------------------------------------------------------------------------\u001b[0m",
      "\u001b[0;31mKeyboardInterrupt\u001b[0m                         Traceback (most recent call last)",
      "\u001b[0;32m<ipython-input-6-897e816f641f>\u001b[0m in \u001b[0;36m<module>\u001b[0;34m\u001b[0m\n\u001b[1;32m     14\u001b[0m         \u001b[0merr_s_label\u001b[0m \u001b[0;34m=\u001b[0m \u001b[0mloss_class\u001b[0m\u001b[0;34m(\u001b[0m\u001b[0mclass_output\u001b[0m \u001b[0;34m,\u001b[0m \u001b[0ms_label\u001b[0m\u001b[0;34m)\u001b[0m\u001b[0;34m\u001b[0m\u001b[0m\n\u001b[1;32m     15\u001b[0m         \u001b[0merr_s_label\u001b[0m\u001b[0;34m.\u001b[0m\u001b[0mbackward\u001b[0m\u001b[0;34m(\u001b[0m\u001b[0;34m)\u001b[0m\u001b[0;34m\u001b[0m\u001b[0m\n\u001b[0;32m---> 16\u001b[0;31m         \u001b[0moptimizer\u001b[0m\u001b[0;34m.\u001b[0m\u001b[0mstep\u001b[0m\u001b[0;34m(\u001b[0m\u001b[0;34m)\u001b[0m\u001b[0;34m\u001b[0m\u001b[0m\n\u001b[0m\u001b[1;32m     17\u001b[0m         \u001b[0msys\u001b[0m\u001b[0;34m.\u001b[0m\u001b[0mstdout\u001b[0m\u001b[0;34m.\u001b[0m\u001b[0mwrite\u001b[0m\u001b[0;34m(\u001b[0m\u001b[0;34m'\\r epoch:%d  step:%d  err_s_label:%f'\u001b[0m\u001b[0;34m%\u001b[0m\u001b[0;34m(\u001b[0m\u001b[0mepoch\u001b[0m\u001b[0;34m,\u001b[0m \u001b[0mi\u001b[0m \u001b[0;34m,\u001b[0m \u001b[0merr_s_label\u001b[0m\u001b[0;34m)\u001b[0m\u001b[0;34m)\u001b[0m\u001b[0;34m\u001b[0m\u001b[0m\n\u001b[1;32m     18\u001b[0m         \u001b[0msys\u001b[0m\u001b[0;34m.\u001b[0m\u001b[0mstdout\u001b[0m\u001b[0;34m.\u001b[0m\u001b[0mflush\u001b[0m\u001b[0;34m(\u001b[0m\u001b[0;34m)\u001b[0m\u001b[0;34m\u001b[0m\u001b[0m\n",
      "\u001b[0;32m~/anaconda3/envs/torch1.1/lib/python3.6/site-packages/torch/optim/optimizer.py\u001b[0m in \u001b[0;36mwrapper\u001b[0;34m(*args, **kwargs)\u001b[0m\n\u001b[1;32m     87\u001b[0m                 \u001b[0mprofile_name\u001b[0m \u001b[0;34m=\u001b[0m \u001b[0;34m\"Optimizer.step#{}.step\"\u001b[0m\u001b[0;34m.\u001b[0m\u001b[0mformat\u001b[0m\u001b[0;34m(\u001b[0m\u001b[0mobj\u001b[0m\u001b[0;34m.\u001b[0m\u001b[0m__class__\u001b[0m\u001b[0;34m.\u001b[0m\u001b[0m__name__\u001b[0m\u001b[0;34m)\u001b[0m\u001b[0;34m\u001b[0m\u001b[0m\n\u001b[1;32m     88\u001b[0m                 \u001b[0;32mwith\u001b[0m \u001b[0mtorch\u001b[0m\u001b[0;34m.\u001b[0m\u001b[0mautograd\u001b[0m\u001b[0;34m.\u001b[0m\u001b[0mprofiler\u001b[0m\u001b[0;34m.\u001b[0m\u001b[0mrecord_function\u001b[0m\u001b[0;34m(\u001b[0m\u001b[0mprofile_name\u001b[0m\u001b[0;34m)\u001b[0m\u001b[0;34m:\u001b[0m\u001b[0;34m\u001b[0m\u001b[0m\n\u001b[0;32m---> 89\u001b[0;31m                     \u001b[0;32mreturn\u001b[0m \u001b[0mfunc\u001b[0m\u001b[0;34m(\u001b[0m\u001b[0;34m*\u001b[0m\u001b[0margs\u001b[0m\u001b[0;34m,\u001b[0m \u001b[0;34m**\u001b[0m\u001b[0mkwargs\u001b[0m\u001b[0;34m)\u001b[0m\u001b[0;34m\u001b[0m\u001b[0m\n\u001b[0m\u001b[1;32m     90\u001b[0m             \u001b[0;32mreturn\u001b[0m \u001b[0mwrapper\u001b[0m\u001b[0;34m\u001b[0m\u001b[0m\n\u001b[1;32m     91\u001b[0m \u001b[0;34m\u001b[0m\u001b[0m\n",
      "\u001b[0;32m~/anaconda3/envs/torch1.1/lib/python3.6/site-packages/torch/autograd/grad_mode.py\u001b[0m in \u001b[0;36mdecorate_context\u001b[0;34m(*args, **kwargs)\u001b[0m\n\u001b[1;32m     25\u001b[0m         \u001b[0;32mdef\u001b[0m \u001b[0mdecorate_context\u001b[0m\u001b[0;34m(\u001b[0m\u001b[0;34m*\u001b[0m\u001b[0margs\u001b[0m\u001b[0;34m,\u001b[0m \u001b[0;34m**\u001b[0m\u001b[0mkwargs\u001b[0m\u001b[0;34m)\u001b[0m\u001b[0;34m:\u001b[0m\u001b[0;34m\u001b[0m\u001b[0m\n\u001b[1;32m     26\u001b[0m             \u001b[0;32mwith\u001b[0m \u001b[0mself\u001b[0m\u001b[0;34m.\u001b[0m\u001b[0m__class__\u001b[0m\u001b[0;34m(\u001b[0m\u001b[0;34m)\u001b[0m\u001b[0;34m:\u001b[0m\u001b[0;34m\u001b[0m\u001b[0m\n\u001b[0;32m---> 27\u001b[0;31m                 \u001b[0;32mreturn\u001b[0m \u001b[0mfunc\u001b[0m\u001b[0;34m(\u001b[0m\u001b[0;34m*\u001b[0m\u001b[0margs\u001b[0m\u001b[0;34m,\u001b[0m \u001b[0;34m**\u001b[0m\u001b[0mkwargs\u001b[0m\u001b[0;34m)\u001b[0m\u001b[0;34m\u001b[0m\u001b[0m\n\u001b[0m\u001b[1;32m     28\u001b[0m         \u001b[0;32mreturn\u001b[0m \u001b[0mcast\u001b[0m\u001b[0;34m(\u001b[0m\u001b[0mF\u001b[0m\u001b[0;34m,\u001b[0m \u001b[0mdecorate_context\u001b[0m\u001b[0;34m)\u001b[0m\u001b[0;34m\u001b[0m\u001b[0m\n\u001b[1;32m     29\u001b[0m \u001b[0;34m\u001b[0m\u001b[0m\n",
      "\u001b[0;32m~/anaconda3/envs/torch1.1/lib/python3.6/site-packages/torch/optim/adam.py\u001b[0m in \u001b[0;36mstep\u001b[0;34m(self, closure)\u001b[0m\n\u001b[1;32m    117\u001b[0m                    \u001b[0mgroup\u001b[0m\u001b[0;34m[\u001b[0m\u001b[0;34m'lr'\u001b[0m\u001b[0;34m]\u001b[0m\u001b[0;34m,\u001b[0m\u001b[0;34m\u001b[0m\u001b[0m\n\u001b[1;32m    118\u001b[0m                    \u001b[0mgroup\u001b[0m\u001b[0;34m[\u001b[0m\u001b[0;34m'weight_decay'\u001b[0m\u001b[0;34m]\u001b[0m\u001b[0;34m,\u001b[0m\u001b[0;34m\u001b[0m\u001b[0m\n\u001b[0;32m--> 119\u001b[0;31m                    group['eps'])\n\u001b[0m\u001b[1;32m    120\u001b[0m         \u001b[0;32mreturn\u001b[0m \u001b[0mloss\u001b[0m\u001b[0;34m\u001b[0m\u001b[0m\n",
      "\u001b[0;32m~/anaconda3/envs/torch1.1/lib/python3.6/site-packages/torch/optim/_functional.py\u001b[0m in \u001b[0;36madam\u001b[0;34m(params, grads, exp_avgs, exp_avg_sqs, max_exp_avg_sqs, state_steps, amsgrad, beta1, beta2, lr, weight_decay, eps)\u001b[0m\n\u001b[1;32m     82\u001b[0m \u001b[0;34m\u001b[0m\u001b[0m\n\u001b[1;32m     83\u001b[0m         \u001b[0;31m# Decay the first and second moment running average coefficient\u001b[0m\u001b[0;34m\u001b[0m\u001b[0;34m\u001b[0m\u001b[0m\n\u001b[0;32m---> 84\u001b[0;31m         \u001b[0mexp_avg\u001b[0m\u001b[0;34m.\u001b[0m\u001b[0mmul_\u001b[0m\u001b[0;34m(\u001b[0m\u001b[0mbeta1\u001b[0m\u001b[0;34m)\u001b[0m\u001b[0;34m.\u001b[0m\u001b[0madd_\u001b[0m\u001b[0;34m(\u001b[0m\u001b[0mgrad\u001b[0m\u001b[0;34m,\u001b[0m \u001b[0malpha\u001b[0m\u001b[0;34m=\u001b[0m\u001b[0;36m1\u001b[0m \u001b[0;34m-\u001b[0m \u001b[0mbeta1\u001b[0m\u001b[0;34m)\u001b[0m\u001b[0;34m\u001b[0m\u001b[0m\n\u001b[0m\u001b[1;32m     85\u001b[0m         \u001b[0mexp_avg_sq\u001b[0m\u001b[0;34m.\u001b[0m\u001b[0mmul_\u001b[0m\u001b[0;34m(\u001b[0m\u001b[0mbeta2\u001b[0m\u001b[0;34m)\u001b[0m\u001b[0;34m.\u001b[0m\u001b[0maddcmul_\u001b[0m\u001b[0;34m(\u001b[0m\u001b[0mgrad\u001b[0m\u001b[0;34m,\u001b[0m \u001b[0mgrad\u001b[0m\u001b[0;34m,\u001b[0m \u001b[0mvalue\u001b[0m\u001b[0;34m=\u001b[0m\u001b[0;36m1\u001b[0m \u001b[0;34m-\u001b[0m \u001b[0mbeta2\u001b[0m\u001b[0;34m)\u001b[0m\u001b[0;34m\u001b[0m\u001b[0m\n\u001b[1;32m     86\u001b[0m         \u001b[0;32mif\u001b[0m \u001b[0mamsgrad\u001b[0m\u001b[0;34m:\u001b[0m\u001b[0;34m\u001b[0m\u001b[0m\n",
      "\u001b[0;31mKeyboardInterrupt\u001b[0m: "
     ]
    }
   ],
   "source": [
    "for epoch in range(50):\n",
    "    data_source_iter = iter(dataloader_source)\n",
    "    len_dataloader = len(dataloader_source)\n",
    "    my_net.train()\n",
    "    for i in range(len_dataloader):\n",
    "        s_img, s_label = data_source_iter.next()\n",
    "        \n",
    "        my_net.zero_grad()\n",
    "        if cuda:\n",
    "            s_img = s_img.cuda()\n",
    "            s_label = s_label.cuda()\n",
    "        class_output = my_net(input_data = s_img)\n",
    "        s_label = s_label.view((s_label.shape[0]))\n",
    "        err_s_label = loss_class(class_output , s_label)\n",
    "        err_s_label.backward()\n",
    "        optimizer.step()\n",
    "        sys.stdout.write('\\r epoch:%d  step:%d  err_s_label:%f'%(epoch, i , err_s_label))\n",
    "        sys.stdout.flush()\n",
    "\n",
    "    # test \n",
    "    my_net.eval()\n",
    "    test_iter = iter(dataloader_test)\n",
    "    len_test =len(dataloader_test)\n",
    "    n_total = 0\n",
    "    n_correct = 0\n",
    "    for j in range(len_test):\n",
    "        data_test = test_iter.next()\n",
    "        t_img, t_label = data_test\n",
    "        batch_size = len(t_label)\n",
    "        if cuda:\n",
    "            t_img = t_img.cuda()\n",
    "            t_label = t_label.cuda()\n",
    "        \n",
    "        class_output = my_net(t_img)\n",
    "        pred = class_output.data.max(1 , keepdim=True)[1]\n",
    "        n_correct += pred.eq(t_label.data.view_as(pred)).cpu().sum()\n",
    "        n_total += batch_size\n",
    "    accu = n_correct.data.numpy() * 1.0 / n_total\n",
    "    print(\"accuracy:%f\"%(accu))"
   ]
  },
  {
   "cell_type": "code",
   "execution_count": null,
   "metadata": {},
   "outputs": [],
   "source": [
    "test_root = '/home/iot/jupyter/root_dir/zkx2/UserData/user10/letter'\n",
    "test_dataset = seriesDataset(test_root , labelMap , True)\n",
    "dataloader_test = torch.utils.data.DataLoader(\n",
    "    dataset= test_dataset,\n",
    "    batch_size=20,\n",
    "    shuffle=True,\n",
    "    num_workers=8\n",
    ")\n",
    "test_iter = iter(dataloader_test)\n",
    "len_test =len(dataloader_test)\n",
    "n_total = 0\n",
    "n_correct = 0\n",
    "for j in range(len_test):\n",
    "    data_test = test_iter.next()\n",
    "    t_img, t_label = data_test\n",
    "    batch_size = len(t_label)\n",
    "    if cuda:\n",
    "        t_img = t_img.cuda()\n",
    "        t_label = t_label.cuda()\n",
    "    \n",
    "    class_output = my_net(t_img)\n",
    "    pred = class_output.data.max(1 , keepdim=True)[1]\n",
    "    n_correct += pred.eq(t_label.data.view_as(pred)).cpu().sum()\n",
    "    n_total += batch_size\n",
    "accu = n_correct.data.numpy() * 1.0 / n_total\n",
    "print(\"accuracy:%f\"%(accu))"
   ]
  }
 ],
 "metadata": {
  "interpreter": {
   "hash": "1a5b7684d5436ff9a38655e41c5d635726c6cf6d419539409e2cdde378a71024"
  },
  "kernelspec": {
   "display_name": "“torch1.1”",
   "language": "python",
   "name": "python3"
  },
  "language_info": {
   "codemirror_mode": {
    "name": "ipython",
    "version": 3
   },
   "file_extension": ".py",
   "mimetype": "text/x-python",
   "name": "python",
   "nbconvert_exporter": "python",
   "pygments_lexer": "ipython3",
   "version": "3.6.2"
  },
  "toc": {
   "base_numbering": 1,
   "nav_menu": {},
   "number_sections": true,
   "sideBar": true,
   "skip_h1_title": false,
   "title_cell": "Table of Contents",
   "title_sidebar": "Contents",
   "toc_cell": false,
   "toc_position": {},
   "toc_section_display": true,
   "toc_window_display": false
  }
 },
 "nbformat": 4,
 "nbformat_minor": 2
}
