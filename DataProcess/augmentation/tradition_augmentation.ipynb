{
 "cells": [
  {
   "cell_type": "markdown",
   "metadata": {},
   "source": [
    "# Data augmentation for time-series data"
   ]
  },
  {
   "cell_type": "markdown",
   "metadata": {},
   "source": [
    "#### This is a simple example to apply data augmentation to time-series data (e.g. wearable sensor data). If it helps your research, please cite the below paper. "
   ]
  },
  {
   "cell_type": "markdown",
   "metadata": {},
   "source": [
    "T. T. Um et al., “Data augmentation of wearable sensor data for parkinson’s disease monitoring using convolutional neural networks,” in Proceedings of the 19th ACM International Conference on Multimodal Interaction, ser. ICMI 2017. New York, NY, USA: ACM, 2017, pp. 216–220. "
   ]
  },
  {
   "cell_type": "markdown",
   "metadata": {},
   "source": [
    "https://dl.acm.org/citation.cfm?id=3136817\n",
    "\n",
    "https://arxiv.org/abs/1706.00527"
   ]
  },
  {
   "cell_type": "markdown",
   "metadata": {},
   "source": [
    "@inproceedings{TerryUm_ICMI2017,\n",
    " author = {Um, Terry T. and Pfister, Franz M. J. and Pichler, Daniel and Endo, Satoshi and Lang, Muriel and Hirche, Sandra and Fietzek, Urban and Kuli\\'{c}, Dana},\n",
    " title = {Data Augmentation of Wearable Sensor Data for Parkinson's Disease Monitoring Using Convolutional Neural Networks},\n",
    " booktitle = {Proceedings of the 19th ACM International Conference on Multimodal Interaction},\n",
    " series = {ICMI 2017},\n",
    " year = {2017},\n",
    " isbn = {978-1-4503-5543-8},\n",
    " location = {Glasgow, UK},\n",
    " pages = {216--220},\n",
    " numpages = {5},\n",
    " doi = {10.1145/3136755.3136817},\n",
    " acmid = {3136817},\n",
    " publisher = {ACM},\n",
    " address = {New York, NY, USA},\n",
    " keywords = {Parkinson\\&\\#39;s disease, convolutional neural networks, data augmentation, health monitoring, motor state detection, wearable sensor},\n",
    "} "
   ]
  },
  {
   "cell_type": "markdown",
   "metadata": {},
   "source": [
    "#### You can freely modify this code for your own purpose. However, please leave the above citation information untouched when you redistributed the code to others. Please contact me via email if you have any questions. Your contributions on the code are always welcome. Thank you."
   ]
  },
  {
   "cell_type": "markdown",
   "metadata": {},
   "source": [
    "Terry Taewoong Um (terry.t.um@gmail.com)\n",
    "\n",
    "https://twitter.com/TerryUm_ML\n",
    "\n",
    "https://github.com/terryum/Data-Augmentation-For-Wearable-Sensor-Data"
   ]
  },
  {
   "cell_type": "code",
   "execution_count": null,
   "metadata": {},
   "outputs": [],
   "source": []
  },
  {
   "cell_type": "code",
   "execution_count": 2,
   "metadata": {},
   "outputs": [],
   "source": [
    "import numpy as np\n",
    "import matplotlib.pyplot as plt"
   ]
  },
  {
   "cell_type": "code",
   "execution_count": 3,
   "metadata": {},
   "outputs": [],
   "source": [
    "from scipy.interpolate import CubicSpline      # for warping\n",
    "from transforms3d.axangles import axangle2mat  # for rotation"
   ]
  },
  {
   "cell_type": "code",
   "execution_count": 4,
   "metadata": {},
   "outputs": [
    {
     "name": "stdout",
     "output_type": "stream",
     "text": [
      "(3600, 3)\n"
     ]
    }
   ],
   "source": [
    "myX = np.load('X_sample.npy')\n",
    "print(myX.shape)  ## 3600 samples (Time) * 3 features (X,Y,Z)"
   ]
  },
  {
   "cell_type": "markdown",
   "metadata": {},
   "source": [
    "Make sure that your data are asssume to have (time*feat) dimension."
   ]
  },
  {
   "cell_type": "code",
   "execution_count": null,
   "metadata": {},
   "outputs": [],
   "source": [
    "plt.plot(myX)\n",
    "plt.title(\"An example of 1min acceleration data\")\n",
    "plt.axis([0,3600,-1.5,1.5])"
   ]
  },
  {
   "cell_type": "markdown",
   "metadata": {},
   "source": [
    "## 1. Jittering"
   ]
  },
  {
   "cell_type": "markdown",
   "metadata": {},
   "source": [
    "#### Hyperparameters :  sigma = standard devitation (STD) of the noise"
   ]
  },
  {
   "cell_type": "code",
   "execution_count": null,
   "metadata": {},
   "outputs": [],
   "source": [
    "sigma = 0.05"
   ]
  },
  {
   "cell_type": "code",
   "execution_count": null,
   "metadata": {},
   "outputs": [],
   "source": [
    "def DA_Jitter(X, sigma=0.05):\n",
    "    myNoise = np.random.normal(loc=0, scale=sigma, size=X.shape)\n",
    "    return X+myNoise"
   ]
  },
  {
   "cell_type": "code",
   "execution_count": null,
   "metadata": {
    "scrolled": true
   },
   "outputs": [],
   "source": [
    "fig = plt.figure(figsize=(15,4))\n",
    "for ii in range(8):\n",
    "    ax = fig.add_subplot(2,4,ii+1)\n",
    "    ax.plot(DA_Jitter(myX, sigma))\n",
    "    ax.set_xlim([0,3600])\n",
    "    ax.set_ylim([-1.5,1.5])"
   ]
  },
  {
   "cell_type": "code",
   "execution_count": null,
   "metadata": {},
   "outputs": [],
   "source": []
  },
  {
   "cell_type": "markdown",
   "metadata": {},
   "source": [
    "## 2. Scaling\n",
    "缩放在这里指代的是序列的高低值，比如序列值从1变成了1.2，从1变成了0.9等，对整个序列进行一定比例的缩放"
   ]
  },
  {
   "cell_type": "markdown",
   "metadata": {},
   "source": [
    "#### Hyperparameters :  sigma = STD of the zoom-in/out factor"
   ]
  },
  {
   "cell_type": "code",
   "execution_count": null,
   "metadata": {},
   "outputs": [],
   "source": [
    "sigma = 0.1"
   ]
  },
  {
   "cell_type": "code",
   "execution_count": null,
   "metadata": {},
   "outputs": [],
   "source": [
    "def DA_Scaling(X, sigma=0.1):\n",
    "    scalingFactor = np.random.normal(loc=1.0, scale=sigma, size=(1,X.shape[1])) # shape=(1,3)\n",
    "    print(scalingFactor)\n",
    "    myNoise = np.matmul(np.ones((X.shape[0],1)), scalingFactor)\n",
    "    return X*myNoise"
   ]
  },
  {
   "cell_type": "code",
   "execution_count": null,
   "metadata": {
    "scrolled": true
   },
   "outputs": [],
   "source": [
    "fig = plt.figure(figsize=(15,4))\n",
    "for ii in range(1):\n",
    "    ax = fig.add_subplot(2,4,ii+1)\n",
    "    ax.plot(DA_Scaling(myX, sigma))\n",
    "    ax.set_xlim([0,3600])\n",
    "    ax.set_ylim([-1.5,1.5])"
   ]
  },
  {
   "cell_type": "code",
   "execution_count": null,
   "metadata": {},
   "outputs": [],
   "source": []
  },
  {
   "cell_type": "markdown",
   "metadata": {},
   "source": [
    "## 3. Magnitude Warping"
   ]
  },
  {
   "cell_type": "markdown",
   "metadata": {},
   "source": [
    "#### Hyperparameters :  sigma = STD of the random knots for generating curves\n",
    "\n",
    "#### knot = # of knots for the random curves (complexity of the curves)"
   ]
  },
  {
   "cell_type": "markdown",
   "metadata": {},
   "source": [
    "\"Scaling\" can be considered as \"applying constant noise to the entire samples\" whereas \"Jittering\" can be considered as \"applying different noise to each sample\". "
   ]
  },
  {
   "cell_type": "markdown",
   "metadata": {},
   "source": [
    "\"Magnitude Warping\" can be considered as \"applying smoothly-varing noise to the entire samples\"\n",
    "可以将Mag Warping是将平滑变化的噪声应用于整体，从实验来看效果不是很好，和单独用缩放效果差不多，可以理解为每处的缩放不是固定值了\n"
   ]
  },
  {
   "cell_type": "code",
   "execution_count": 13,
   "metadata": {},
   "outputs": [],
   "source": [
    "sigma = 0.2\n",
    "knot = 5"
   ]
  },
  {
   "cell_type": "code",
   "execution_count": 26,
   "metadata": {},
   "outputs": [],
   "source": [
    "## This example using cubic splice is not the best approach to generate random curves. \n",
    "## You can use other aprroaches, e.g., Gaussian process regression, Bezier curve, etc.\n",
    "def GenerateRandomCurves(X, sigma=0.2, knot=5):\n",
    "    xx = (np.ones((X.shape[1],1))*(np.arange(0,X.shape[0], (X.shape[0]-1)/(knot+1)))).transpose()\n",
    "    yy = np.random.normal(loc=1.0, scale=sigma, size=(knot+2, X.shape[1]))\n",
    "    x_range = np.arange(X.shape[0])\n",
    "    cs_x = CubicSpline(xx[:,0], yy[:,0])\n",
    "    cs_y = CubicSpline(xx[:,1], yy[:,1])\n",
    "    cs_z = CubicSpline(xx[:,2], yy[:,2])\n",
    "    return np.array([cs_x(x_range),cs_y(x_range),cs_z(x_range)]).transpose()"
   ]
  },
  {
   "cell_type": "code",
   "execution_count": 27,
   "metadata": {},
   "outputs": [
    {
     "data": {
      "image/png": "[encoded data removed]",
      "text/plain": [
       "<Figure size 1080x288 with 1 Axes>"
      ]
     },
     "metadata": {
      "needs_background": "light"
     },
     "output_type": "display_data"
    }
   ],
   "source": [
    "## Random curves around 1.0\n",
    "fig = plt.figure(figsize=(15,4))\n",
    "for ii in range(1):\n",
    "    ax = fig.add_subplot(2,4,ii+1)\n",
    "    ax.plot(GenerateRandomCurves(myX, sigma))\n",
    "    plt.axis([0,3600,-0.5,2])"
   ]
  },
  {
   "cell_type": "code",
   "execution_count": null,
   "metadata": {},
   "outputs": [],
   "source": [
    "def DA_MagWarp(X, sigma):\n",
    "    return X * GenerateRandomCurves(X, sigma)"
   ]
  },
  {
   "cell_type": "code",
   "execution_count": null,
   "metadata": {
    "scrolled": true
   },
   "outputs": [],
   "source": [
    "fig = plt.figure(figsize=(15,4))\n",
    "for ii in range(8):\n",
    "    ax = fig.add_subplot(2,4,ii+1)\n",
    "    ax.plot(DA_MagWarp(myX, sigma))\n",
    "    ax.set_xlim([0,3600])\n",
    "    ax.set_ylim([-1.5,1.5])"
   ]
  },
  {
   "cell_type": "markdown",
   "metadata": {},
   "source": [
    "## 4. Time Warping\n",
    "Time Warping的提升比较大，进行时间间隔的扭曲，比如0~1完成的，可以扭曲为0~2完成的\n",
    "我感觉可以理解为手动横向进行拉伸，比如原来[1,1]的点移动到了[0.9,1]处"
   ]
  },
  {
   "cell_type": "markdown",
   "metadata": {},
   "source": [
    "#### Hyperparameters :  sigma = STD of the random knots for generating curves\n",
    "\n",
    "#### knot = # of knots for the random curves (complexity of the curves)"
   ]
  },
  {
   "cell_type": "code",
   "execution_count": 20,
   "metadata": {},
   "outputs": [],
   "source": [
    "sigma = 0.2\n",
    "knot = 4"
   ]
  },
  {
   "cell_type": "code",
   "execution_count": 38,
   "metadata": {},
   "outputs": [],
   "source": [
    "def DistortTimesteps(X, sigma=0.2):\n",
    "    # tt对应MagWrap中的扭曲曲线\n",
    "    tt = GenerateRandomCurves(X, sigma) # Regard these samples aroun 1 as time intervals\n",
    "    print(tt.shape)\n",
    "    tt_cum = np.cumsum(tt, axis=0)        # Add intervals to make a cumulative graph\n",
    "    # Make the last value to have X.shape[0]\n",
    "    t_scale = [(X.shape[0]-1)/tt_cum[-1,0],(X.shape[0]-1)/tt_cum[-1,1],(X.shape[0]-1)/tt_cum[-1,2]]\n",
    "    tt_cum[:,0] = tt_cum[:,0]*t_scale[0]\n",
    "    tt_cum[:,1] = tt_cum[:,1]*t_scale[1]\n",
    "    tt_cum[:,2] = tt_cum[:,2]*t_scale[2]\n",
    "    print(tt_cum)\n",
    "    return tt_cum"
   ]
  },
  {
   "cell_type": "code",
   "execution_count": 39,
   "metadata": {},
   "outputs": [
    {
     "name": "stdout",
     "output_type": "stream",
     "text": [
      "(3600, 3)\n",
      "[[7.67538068e-01 1.32451818e+00 1.26043952e+00]\n",
      " [1.53572028e+00 2.64903640e+00 2.52068257e+00]\n",
      " [2.30454454e+00 3.97355433e+00 3.78072821e+00]\n",
      " ...\n",
      " [3.59684755e+03 3.59683513e+03 3.59668548e+03]\n",
      " [3.59792348e+03 3.59791502e+03 3.59784229e+03]\n",
      " [3.59900000e+03 3.59900000e+03 3.59900000e+03]]\n"
     ]
    },
    {
     "data": {
      "image/png": "[encoded data removed]",
      "text/plain": [
       "<Figure size 1080x288 with 1 Axes>"
      ]
     },
     "metadata": {
      "needs_background": "light"
     },
     "output_type": "display_data"
    }
   ],
   "source": [
    "## Random curves around 1.0\n",
    "fig = plt.figure(figsize=(15,4))\n",
    "for ii in range(1):\n",
    "    ax = fig.add_subplot(2,4,ii+1)\n",
    "    ax.plot(DistortTimesteps(myX, sigma))\n",
    "    ax.set_xlim([0,3600])\n",
    "    ax.set_ylim([0,3600])"
   ]
  },
  {
   "cell_type": "code",
   "execution_count": 22,
   "metadata": {},
   "outputs": [],
   "source": [
    "def DA_TimeWarp(X, sigma=0.2):\n",
    "    tt_new = DistortTimesteps(X, sigma)\n",
    "    print(tt_new)\n",
    "    X_new = np.zeros(X.shape)\n",
    "    x_range = np.arange(X.shape[0])\n",
    "    # 一维插值 参数分别表示:待插入数据的横坐标，原始数据的横坐标，原始数据的纵坐标\n",
    "    X_new[:,0] = np.interp(x_range, tt_new[:,0], X[:,0])\n",
    "    X_new[:,1] = np.interp(x_range, tt_new[:,1], X[:,1])\n",
    "    X_new[:,2] = np.interp(x_range, tt_new[:,2], X[:,2])\n",
    "    return X_new"
   ]
  },
  {
   "cell_type": "code",
   "execution_count": 40,
   "metadata": {
    "scrolled": true
   },
   "outputs": [
    {
     "name": "stdout",
     "output_type": "stream",
     "text": [
      "(3600, 3)\n",
      "[[5.69192188e-01 1.04266068e+00 1.31061911e+00]\n",
      " [1.13909233e+00 2.08345116e+00 2.61694263e+00]\n",
      " [1.70970133e+00 3.12237920e+00 3.91898463e+00]\n",
      " ...\n",
      " [3.59776067e+03 3.59735622e+03 3.59757605e+03]\n",
      " [3.59838102e+03 3.59817804e+03 3.59828934e+03]\n",
      " [3.59900000e+03 3.59900000e+03 3.59900000e+03]]\n",
      "[[5.69192188e-01 1.04266068e+00 1.31061911e+00]\n",
      " [1.13909233e+00 2.08345116e+00 2.61694263e+00]\n",
      " [1.70970133e+00 3.12237920e+00 3.91898463e+00]\n",
      " ...\n",
      " [3.59776067e+03 3.59735622e+03 3.59757605e+03]\n",
      " [3.59838102e+03 3.59817804e+03 3.59828934e+03]\n",
      " [3.59900000e+03 3.59900000e+03 3.59900000e+03]]\n"
     ]
    },
    {
     "data": {
      "image/png": "[encoded data removed]",
      "text/plain": [
       "<Figure size 1080x288 with 1 Axes>"
      ]
     },
     "metadata": {
      "needs_background": "light"
     },
     "output_type": "display_data"
    }
   ],
   "source": [
    "fig = plt.figure(figsize=(15,4))\n",
    "for ii in range(1):\n",
    "    ax = fig.add_subplot(2,4,ii+1)\n",
    "    ax.plot(DA_TimeWarp(myX, sigma))\n",
    "    ax.set_xlim([0,3600])\n",
    "    ax.set_ylim([-1.5,1.5])"
   ]
  },
  {
   "cell_type": "markdown",
   "metadata": {},
   "source": [
    "## 5. Rotation\n",
    "简单的进行旋转"
   ]
  },
  {
   "cell_type": "markdown",
   "metadata": {},
   "source": [
    "#### Hyperparameters :  N/A"
   ]
  },
  {
   "cell_type": "code",
   "execution_count": null,
   "metadata": {},
   "outputs": [],
   "source": [
    "def DA_Rotation(X):\n",
    "    axis = np.random.uniform(low=-1, high=1, size=X.shape[1])\n",
    "    angle = np.random.uniform(low=-np.pi, high=np.pi)\n",
    "    return np.matmul(X , axangle2mat(axis,angle))"
   ]
  },
  {
   "cell_type": "code",
   "execution_count": null,
   "metadata": {},
   "outputs": [],
   "source": [
    "fig = plt.figure(figsize=(15,4))\n",
    "for ii in range(8):\n",
    "    ax = fig.add_subplot(2,4,ii+1)\n",
    "    ax.plot(DA_Rotation(myX))\n",
    "    ax.set_xlim([0,3600])\n",
    "    ax.set_ylim([-1.5,1.5])"
   ]
  },
  {
   "cell_type": "markdown",
   "metadata": {},
   "source": [
    "## 6. Permutation"
   ]
  },
  {
   "cell_type": "markdown",
   "metadata": {},
   "source": [
    "#### Hyperparameters :  nPerm = # of segments to permute\n",
    "#### minSegLength = allowable minimum length for each segment"
   ]
  },
  {
   "cell_type": "code",
   "execution_count": null,
   "metadata": {},
   "outputs": [],
   "source": [
    "nPerm = 4 # 切成4段\n",
    "minSegLength = 100"
   ]
  },
  {
   "cell_type": "code",
   "execution_count": null,
   "metadata": {},
   "outputs": [],
   "source": [
    "def DA_Permutation(X, nPerm=4, minSegLength=10):\n",
    "    X_new = np.zeros(X.shape)\n",
    "    idx = np.random.permutation(nPerm)\n",
    "    bWhile = True\n",
    "    while bWhile == True:\n",
    "        segs = np.zeros(nPerm+1, dtype=int)\n",
    "        segs[1:-1] = np.sort(np.random.randint(minSegLength, X.shape[0]-minSegLength, nPerm-1))\n",
    "        segs[-1] = X.shape[0]\n",
    "        if np.min(segs[1:]-segs[0:-1]) > minSegLength:\n",
    "            bWhile = False\n",
    "    pp = 0\n",
    "    for ii in range(nPerm):\n",
    "        x_temp = X[segs[idx[ii]]:segs[idx[ii]+1],:]\n",
    "        X_new[pp:pp+len(x_temp),:] = x_temp\n",
    "        pp += len(x_temp)\n",
    "    return(X_new)"
   ]
  },
  {
   "cell_type": "code",
   "execution_count": null,
   "metadata": {},
   "outputs": [],
   "source": [
    "fig = plt.figure(figsize=(15,4))\n",
    "for ii in range(8):\n",
    "    ax = fig.add_subplot(2,4,ii+1)\n",
    "    ax.plot(DA_Permutation(myX))\n",
    "    ax.set_xlim([0,3600])\n",
    "    ax.set_ylim([-1.5,1.5])"
   ]
  },
  {
   "cell_type": "code",
   "execution_count": null,
   "metadata": {},
   "outputs": [],
   "source": []
  },
  {
   "cell_type": "markdown",
   "metadata": {},
   "source": [
    "## 7. Random Sampling"
   ]
  },
  {
   "cell_type": "markdown",
   "metadata": {},
   "source": [
    "#### Hyperparameters :  nSample = # of subsamples (nSample <= X.shape[0])"
   ]
  },
  {
   "cell_type": "markdown",
   "metadata": {},
   "source": [
    "This approach is similar to TimeWarp, but will use only subsamples (not all samples) for interpolation. (Using TimeWarp is more recommended)\n",
    "相当于这个随机采样是对部分的序列插值，而Time Wraping是对整个序列进行拟合。\n",
    "假设我有3000个点，我选择了1000个点，然后通过这1000个点的值进行线性插值，最终插值回3000个点"
   ]
  },
  {
   "cell_type": "code",
   "execution_count": 42,
   "metadata": {},
   "outputs": [
    {
     "name": "stdout",
     "output_type": "stream",
     "text": [
      "3600\n"
     ]
    }
   ],
   "source": [
    "nSample = 1000\n",
    "print(myX.shape[0])"
   ]
  },
  {
   "cell_type": "code",
   "execution_count": null,
   "metadata": {},
   "outputs": [],
   "source": [
    "# 随机在原始数据中选择了nSample个点\n",
    "def RandSampleTimesteps(X, nSample=1000):\n",
    "    X_new = np.zeros(X.shape)\n",
    "    tt = np.zeros((nSample,X.shape[1]), dtype=int)\n",
    "    tt[1:-1,0] = np.sort(np.random.randint(1,X.shape[0]-1,nSample-2))\n",
    "    tt[1:-1,1] = np.sort(np.random.randint(1,X.shape[0]-1,nSample-2))\n",
    "    tt[1:-1,2] = np.sort(np.random.randint(1,X.shape[0]-1,nSample-2))\n",
    "    tt[-1,:] = X.shape[0]-1\n",
    "    return tt"
   ]
  },
  {
   "cell_type": "code",
   "execution_count": null,
   "metadata": {},
   "outputs": [],
   "source": [
    "def DA_RandSampling(X, nSample=1000):\n",
    "    tt = RandSampleTimesteps(X, nSample)\n",
    "    X_new = np.zeros(X.shape)\n",
    "    X_new[:,0] = np.interp(np.arange(X.shape[0]), tt[:,0], X[tt[:,0],0])\n",
    "    X_new[:,1] = np.interp(np.arange(X.shape[0]), tt[:,1], X[tt[:,1],1])\n",
    "    X_new[:,2] = np.interp(np.arange(X.shape[0]), tt[:,2], X[tt[:,2],2])\n",
    "    return X_new"
   ]
  },
  {
   "cell_type": "code",
   "execution_count": null,
   "metadata": {},
   "outputs": [],
   "source": [
    "fig = plt.figure(figsize=(15,4))\n",
    "for ii in range(8):\n",
    "    ax = fig.add_subplot(2,4,ii+1)\n",
    "    ax.plot(DA_RandSampling(myX))\n",
    "    ax.set_xlim([0,3600])\n",
    "    ax.set_ylim([-1.5,1.5])"
   ]
  },
  {
   "cell_type": "markdown",
   "metadata": {},
   "source": [
    "## 8. Combinations"
   ]
  },
  {
   "cell_type": "markdown",
   "metadata": {},
   "source": [
    "You can combine any of the above data augmentation techiniques. For example, "
   ]
  },
  {
   "cell_type": "code",
   "execution_count": null,
   "metadata": {},
   "outputs": [],
   "source": [
    "## Rotation + Permutation\n",
    "fig = plt.figure(figsize=(15,4))\n",
    "for ii in range(8):\n",
    "    ax = fig.add_subplot(2,4,ii+1)\n",
    "    ax.plot(DA_Rotation(DA_Permutation(myX, nPerm=4)))\n",
    "    ax.set_xlim([0,3600])\n",
    "    ax.set_ylim([-1.5,1.5])"
   ]
  }
 ],
 "metadata": {
  "kernelspec": {
   "display_name": "Python 3",
   "language": "python",
   "name": "python3"
  },
  "language_info": {
   "codemirror_mode": {
    "name": "ipython",
    "version": 3
   },
   "file_extension": ".py",
   "mimetype": "text/x-python",
   "name": "python",
   "nbconvert_exporter": "python",
   "pygments_lexer": "ipython3",
   "version": "3.8.3"
  }
 },
 "nbformat": 4,
 "nbformat_minor": 2
}
